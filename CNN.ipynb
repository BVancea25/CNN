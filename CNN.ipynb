{
 "cells": [
  {
   "cell_type": "code",
   "execution_count": 41,
   "id": "be3d3d90",
   "metadata": {},
   "outputs": [],
   "source": [
    "import tensorflow as tf\n",
    "import matplotlib.pyplot as plt\n",
    "from tensorflow.keras import datasets,layers,models\n",
    "import numpy as np"
   ]
  },
  {
   "cell_type": "code",
   "execution_count": 50,
   "id": "7cc48811",
   "metadata": {},
   "outputs": [],
   "source": [
    "(train_images,train_labels),(test_images,test_labels)=datasets.cifar10.load_data()\n",
    "\n",
    "train_images,test_images=train_images/255.0,test_images/255.0\n",
    "class_names=['airplane','automobile','bird','cat','deer','dog','frog','horse','ship','truck']"
   ]
  },
  {
   "cell_type": "code",
   "execution_count": 20,
   "id": "7d86b0b2",
   "metadata": {},
   "outputs": [],
   "source": [
    "from keras.preprocessing import image\n",
    "from keras.preprocessing.image import ImageDataGenerator"
   ]
  },
  {
   "cell_type": "markdown",
   "id": "ca8ec4c6",
   "metadata": {},
   "source": [
    "datagen=ImageDataGenerator(\n",
    "rotation_range=40,\n",
    "width_shift_range=0.2,\n",
    "height_shift_range=0.2,\n",
    "shear_range=0.2,\n",
    "zoom_range=0.2,\n",
    "horizontal_flip=True,\n",
    "fill_mode='nearest')"
   ]
  },
  {
   "cell_type": "markdown",
   "id": "763d1857",
   "metadata": {},
   "source": [
    "Augment the dataset with modified pictures"
   ]
  },
  {
   "cell_type": "code",
   "execution_count": 52,
   "id": "60066e8a",
   "metadata": {},
   "outputs": [
    {
     "ename": "KeyboardInterrupt",
     "evalue": "",
     "output_type": "error",
     "traceback": [
      "\u001b[1;31m---------------------------------------------------------------------------\u001b[0m",
      "\u001b[1;31mKeyboardInterrupt\u001b[0m                         Traceback (most recent call last)",
      "Cell \u001b[1;32mIn[52], line 8\u001b[0m\n\u001b[0;32m      3\u001b[0m augmented_image \u001b[38;5;241m=\u001b[39m datagen\u001b[38;5;241m.\u001b[39mflow(\n\u001b[0;32m      4\u001b[0m reshaped_image,\n\u001b[0;32m      5\u001b[0m batch_size\u001b[38;5;241m=\u001b[39m\u001b[38;5;241m1\u001b[39m\n\u001b[0;32m      6\u001b[0m )\u001b[38;5;241m.\u001b[39mnext()[\u001b[38;5;241m0\u001b[39m]\n\u001b[0;32m      7\u001b[0m augmented_image \u001b[38;5;241m=\u001b[39m augmented_image\u001b[38;5;241m.\u001b[39mreshape((\u001b[38;5;241m1\u001b[39m,)\u001b[38;5;241m+\u001b[39mimage\u001b[38;5;241m.\u001b[39mshape)\n\u001b[1;32m----> 8\u001b[0m train_images \u001b[38;5;241m=\u001b[39m \u001b[43mnp\u001b[49m\u001b[38;5;241;43m.\u001b[39;49m\u001b[43mconcatenate\u001b[49m\u001b[43m(\u001b[49m\u001b[43m(\u001b[49m\u001b[43mtrain_images\u001b[49m\u001b[43m,\u001b[49m\u001b[43m \u001b[49m\u001b[43maugmented_image\u001b[49m\u001b[43m)\u001b[49m\u001b[43m,\u001b[49m\u001b[43m \u001b[49m\u001b[43maxis\u001b[49m\u001b[38;5;241;43m=\u001b[39;49m\u001b[38;5;241;43m0\u001b[39;49m\u001b[43m)\u001b[49m\n\u001b[0;32m      9\u001b[0m train_labels\u001b[38;5;241m=\u001b[39mnp\u001b[38;5;241m.\u001b[39mconcatenate((train_labels, train_labels[index]\u001b[38;5;241m.\u001b[39mreshape((\u001b[38;5;241m1\u001b[39m,)\u001b[38;5;241m+\u001b[39mtrain_labels[index]\u001b[38;5;241m.\u001b[39mshape)), axis\u001b[38;5;241m=\u001b[39m\u001b[38;5;241m0\u001b[39m)\n",
      "File \u001b[1;32m<__array_function__ internals>:180\u001b[0m, in \u001b[0;36mconcatenate\u001b[1;34m(*args, **kwargs)\u001b[0m\n",
      "\u001b[1;31mKeyboardInterrupt\u001b[0m: "
     ]
    }
   ],
   "source": [
    "for index, image in enumerate(train_images):\n",
    "    reshaped_image=image.reshape((1,)+image.shape)\n",
    "    augmented_image = datagen.flow(\n",
    "    reshaped_image,\n",
    "    batch_size=1\n",
    "    ).next()[0]\n",
    "    augmented_image = augmented_image.reshape((1,)+image.shape)\n",
    "    train_images = np.concatenate((train_images, augmented_image), axis=0)\n",
    "    train_labels=np.concatenate((train_labels, train_labels[index].reshape((1,)+train_labels[index].shape)), axis=0)\n",
    "    "
   ]
  },
  {
   "cell_type": "code",
   "execution_count": 59,
   "id": "fa43f6f5",
   "metadata": {},
   "outputs": [
    {
     "name": "stdout",
     "output_type": "stream",
     "text": [
      "[1]\n"
     ]
    },
    {
     "data": {
      "image/png": "[encoded data removed]",
      "text/plain": [
       "<Figure size 640x480 with 1 Axes>"
      ]
     },
     "metadata": {},
     "output_type": "display_data"
    }
   ],
   "source": [
    "#print(type(train_images[0]))\n",
    "#print(train_images.shape)\n",
    "#print(train_labels.shape)\n",
    "plt.imshow(train_images[50005], cmap=plt.cm.binary)\n",
    "print(train_labels[50005])\n",
    "plt.show()\n"
   ]
  },
  {
   "cell_type": "markdown",
   "id": "ac57e654",
   "metadata": {},
   "source": [
    "Convolutional and Pooling layers of the network"
   ]
  },
  {
   "cell_type": "code",
   "execution_count": 60,
   "id": "c1fbc3b7",
   "metadata": {},
   "outputs": [],
   "source": [
    "model=models.Sequential()\n",
    "model.add(layers.Conv2D(32,(3,3),activation='relu',input_shape=(32,32,3)))\n",
    "model.add(layers.MaxPooling2D((2,2)))\n",
    "model.add(layers.Conv2D(64,(3,3),activation='relu'))\n",
    "model.add(layers.MaxPooling2D((2,2)))\n",
    "model.add(layers.Conv2D(64,(3,3),activation='relu'))"
   ]
  },
  {
   "cell_type": "code",
   "execution_count": 63,
   "id": "0dd02f3d",
   "metadata": {},
   "outputs": [
    {
     "name": "stdout",
     "output_type": "stream",
     "text": [
      "Model: \"sequential_3\"\n",
      "_________________________________________________________________\n",
      " Layer (type)                Output Shape              Param #   \n",
      "=================================================================\n",
      " conv2d_6 (Conv2D)           (None, 30, 30, 32)        896       \n",
      "                                                                 \n",
      " max_pooling2d_4 (MaxPooling  (None, 15, 15, 32)       0         \n",
      " 2D)                                                             \n",
      "                                                                 \n",
      " conv2d_7 (Conv2D)           (None, 13, 13, 64)        18496     \n",
      "                                                                 \n",
      " max_pooling2d_5 (MaxPooling  (None, 6, 6, 64)         0         \n",
      " 2D)                                                             \n",
      "                                                                 \n",
      " conv2d_8 (Conv2D)           (None, 4, 4, 64)          36928     \n",
      "                                                                 \n",
      " flatten_1 (Flatten)         (None, 1024)              0         \n",
      "                                                                 \n",
      " dense_2 (Dense)             (None, 64)                65600     \n",
      "                                                                 \n",
      " dense_3 (Dense)             (None, 10)                650       \n",
      "                                                                 \n",
      "=================================================================\n",
      "Total params: 122,570\n",
      "Trainable params: 122,570\n",
      "Non-trainable params: 0\n",
      "_________________________________________________________________\n"
     ]
    }
   ],
   "source": [
    "model.summary()"
   ]
  },
  {
   "cell_type": "markdown",
   "id": "6b370cb1",
   "metadata": {},
   "source": [
    "Dense layers for calssification"
   ]
  },
  {
   "cell_type": "code",
   "execution_count": 62,
   "id": "26675e58",
   "metadata": {},
   "outputs": [],
   "source": [
    "model.add(layers.Flatten())\n",
    "model.add(layers.Dense(64,activation='relu'))\n",
    "model.add(layers.Dense(10))"
   ]
  },
  {
   "cell_type": "code",
   "execution_count": 65,
   "id": "daf209b7",
   "metadata": {},
   "outputs": [],
   "source": [
    "model.compile(optimizer='adam',loss=tf.keras.losses.SparseCategoricalCrossentropy(from_logits=True),metrics=['accuracy'])"
   ]
  },
  {
   "cell_type": "code",
   "execution_count": 66,
   "id": "1dc2e78b",
   "metadata": {
    "scrolled": true
   },
   "outputs": [
    {
     "name": "stdout",
     "output_type": "stream",
     "text": [
      "Epoch 1/10\n",
      "1615/1615 [==============================] - 25s 15ms/step - loss: 1.5262 - accuracy: 0.4426 - val_loss: 1.2334 - val_accuracy: 0.5660\n",
      "Epoch 2/10\n",
      "1615/1615 [==============================] - 24s 15ms/step - loss: 1.1676 - accuracy: 0.5865 - val_loss: 1.0760 - val_accuracy: 0.6081\n",
      "Epoch 3/10\n",
      "1615/1615 [==============================] - 25s 15ms/step - loss: 1.0262 - accuracy: 0.6390 - val_loss: 0.9881 - val_accuracy: 0.6520\n",
      "Epoch 4/10\n",
      "1615/1615 [==============================] - 25s 15ms/step - loss: 0.9278 - accuracy: 0.6728 - val_loss: 0.9673 - val_accuracy: 0.6649\n",
      "Epoch 5/10\n",
      "1615/1615 [==============================] - 25s 15ms/step - loss: 0.8584 - accuracy: 0.6994 - val_loss: 0.9392 - val_accuracy: 0.6757\n",
      "Epoch 6/10\n",
      "1615/1615 [==============================] - 25s 15ms/step - loss: 0.8046 - accuracy: 0.7186 - val_loss: 0.8675 - val_accuracy: 0.6969\n",
      "Epoch 7/10\n",
      "1615/1615 [==============================] - 25s 15ms/step - loss: 0.7553 - accuracy: 0.7344 - val_loss: 0.8972 - val_accuracy: 0.6870\n",
      "Epoch 8/10\n",
      "1615/1615 [==============================] - 25s 15ms/step - loss: 0.7131 - accuracy: 0.7485 - val_loss: 0.8710 - val_accuracy: 0.7059\n",
      "Epoch 9/10\n",
      "1615/1615 [==============================] - 25s 16ms/step - loss: 0.6739 - accuracy: 0.7634 - val_loss: 0.9162 - val_accuracy: 0.6965\n",
      "Epoch 10/10\n",
      "1615/1615 [==============================] - 26s 16ms/step - loss: 0.6347 - accuracy: 0.7757 - val_loss: 0.8818 - val_accuracy: 0.7064\n"
     ]
    }
   ],
   "source": [
    "train=model.fit(train_images,train_labels,epochs=10,validation_data=(test_images,test_labels))"
   ]
  },
  {
   "cell_type": "code",
   "execution_count": 68,
   "id": "2f76f82a",
   "metadata": {},
   "outputs": [
    {
     "name": "stdout",
     "output_type": "stream",
     "text": [
      "313/313 - 1s - loss: 0.8818 - accuracy: 0.7064 - 1s/epoch - 4ms/step\n"
     ]
    }
   ],
   "source": [
    "test_loss,test_acc=model.evaluate(test_images,test_labels,verbose=2)\n"
   ]
  },
  {
   "cell_type": "code",
   "execution_count": null,
   "id": "d16cd058",
   "metadata": {},
   "outputs": [],
   "source": []
  }
 ],
 "metadata": {
  "kernelspec": {
   "display_name": "Python 3 (ipykernel)",
   "language": "python",
   "name": "python3"
  },
  "language_info": {
   "codemirror_mode": {
    "name": "ipython",
    "version": 3
   },
   "file_extension": ".py",
   "mimetype": "text/x-python",
   "name": "python",
   "nbconvert_exporter": "python",
   "pygments_lexer": "ipython3",
   "version": "3.10.9"
  }
 },
 "nbformat": 4,
 "nbformat_minor": 5
}
